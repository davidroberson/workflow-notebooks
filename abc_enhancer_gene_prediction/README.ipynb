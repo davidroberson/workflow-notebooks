{
 "cells": [
  {
   "cell_type": "markdown",
   "id": "7da74f92-3083-4955-8712-1b4febeaf596",
   "metadata": {},
   "source": [
    "## Describing the Activity by Contact Model of Enhancer-Gene Specificity in Common Workflow Language\n",
    "  \n",
    "[broadinstitute/ABC-Enhancer-Gene-Prediction: Cell type specific enhancer-gene predictions using ABC model (Fulco, Nasser et al, Nature Genetics 2019)](https://github.com/broadinstitute/ABC-Enhancer-Gene-Prediction) \n",
    "\n",
    "\n",
    "[Private development project located on BioData Catalyst Powered by Seven Bridges](https://platform.sb.biodatacatalyst.nhlbi.nih.gov/u/dave/abc-development-scratch-project) "
   ]
  },
  {
   "cell_type": "code",
   "execution_count": null,
   "id": "2d080ec8-c990-4953-84ea-c5913c1ae1e9",
   "metadata": {},
   "outputs": [],
   "source": []
  },
  {
   "cell_type": "code",
   "execution_count": null,
   "id": "a8474619-6d00-4569-a2ec-25500cefaf15",
   "metadata": {},
   "outputs": [],
   "source": []
  },
  {
   "cell_type": "code",
   "execution_count": null,
   "id": "b32e9d61-1f50-4d4a-8fdf-cf7329d9329e",
   "metadata": {},
   "outputs": [],
   "source": []
  },
  {
   "cell_type": "code",
   "execution_count": null,
   "id": "d200e75b-1130-400d-bbb1-dfa1054f5bf4",
   "metadata": {},
   "outputs": [],
   "source": []
  }
 ],
 "metadata": {
  "kernelspec": {
   "display_name": "Python 3 (ipykernel)",
   "language": "python",
   "name": "python3"
  },
  "language_info": {
   "codemirror_mode": {
    "name": "ipython",
    "version": 3
   },
   "file_extension": ".py",
   "mimetype": "text/x-python",
   "name": "python",
   "nbconvert_exporter": "python",
   "pygments_lexer": "ipython3",
   "version": "3.9.6"
  }
 },
 "nbformat": 4,
 "nbformat_minor": 5
}
