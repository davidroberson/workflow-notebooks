{
 "cells": [
  {
   "attachments": {},
   "cell_type": "markdown",
   "id": "f1a00565-1ce9-4804-b72e-0fd4bd67ca34",
   "metadata": {
    "jp-MarkdownHeadingCollapsed": true,
    "tags": []
   },
   "source": [
    "# I Initialize"
   ]
  },
  {
   "attachments": {},
   "cell_type": "markdown",
   "id": "36f61961-5277-4ebb-869b-e620d9775679",
   "metadata": {},
   "source": [
    "This notebook is a walkthrough of describing...\n",
    "\n",
    "[github repo](http://)\n",
    "\n",
    "We wrap the 1st step...\n",
    "\n",
    "The example code in the github repo is this\n",
    "\n",
    "```\n",
    "bash or script exampe...\n",
    "```"
   ]
  },
  {
   "attachments": {},
   "cell_type": "markdown",
   "id": "0af4d32f-13cd-4d0c-b4aa-48e36394c640",
   "metadata": {
    "jp-MarkdownHeadingCollapsed": true,
    "tags": []
   },
   "source": [
    "## Load packages"
   ]
  },
  {
   "cell_type": "code",
   "execution_count": 2,
   "id": "658e5314-e9f7-4a12-9aa0-898c337a59b6",
   "metadata": {
    "jupyter": {
     "source_hidden": true
    }
   },
   "outputs": [],
   "source": [
    "#from sevenbridges import Api, ImportExportState\n",
    "import yaml\n",
    "import time\n",
    "import json\n",
    "import importlib\n",
    "import getpass\n",
    "import sevenbridges"
   ]
  },
  {
   "cell_type": "code",
   "execution_count": 3,
   "id": "67e2db23-604f-4937-bcb7-2d14030d3fe3",
   "metadata": {
    "jupyter": {
     "source_hidden": true
    }
   },
   "outputs": [],
   "source": [
    "%load_ext yamlmagic"
   ]
  },
  {
   "attachments": {},
   "cell_type": "markdown",
   "id": "231622e7",
   "metadata": {},
   "source": [
    "# II CWL Description"
   ]
  },
  {
   "attachments": {},
   "cell_type": "markdown",
   "id": "efe56e3b-b619-437d-9397-0bceedf0eab6",
   "metadata": {
    "jp-MarkdownHeadingCollapsed": true,
    "tags": []
   },
   "source": [
    "## Section 1/4 - Tool Label and Documentation"
   ]
  },
  {
   "cell_type": "code",
   "execution_count": 4,
   "id": "e4b17418-6b2d-4629-88a7-3264c2f81944",
   "metadata": {
    "tags": []
   },
   "outputs": [
    {
     "data": {
      "application/javascript": "\n            require(\n                [\n                    \"notebook/js/codecell\",\n                    \"codemirror/mode/yaml/yaml\"\n                ],\n                function(cc){\n                    cc.CodeCell.options_default.highlight_modes.magic_yaml = {\n                        reg: [\"^%%yaml\"]\n                    }\n                }\n            );\n            ",
      "text/plain": [
       "<IPython.core.display.Javascript object>"
      ]
     },
     "metadata": {},
     "output_type": "display_data"
    }
   ],
   "source": [
    "%%yaml label_and_description\n",
    "\n",
    "#### rarely changing header and bioler plate\n",
    "cwlVersion: v1.2\n",
    "class: CommandLineTool\n",
    "$namespaces:\n",
    "  sbg: https://sevenbridges.com\n",
    "hints:\n",
    "- class: sbg:SaveLogs\n",
    "  value: '*.sh'  \n",
    "\n",
    "#### Tool Label  \n",
    "label: tool name\n",
    "\n",
    "#### Tool Description\n",
    "\n",
    "doc: |-\n",
    "\n",
    "  The tool does this...\n",
    "  \n"
   ]
  },
  {
   "attachments": {},
   "cell_type": "markdown",
   "id": "edd2a20c-36f3-4fab-bbad-0395fe86e299",
   "metadata": {
    "jp-MarkdownHeadingCollapsed": true,
    "tags": []
   },
   "source": [
    "## Section 2/4 Tool Inputs"
   ]
  },
  {
   "cell_type": "markdown",
   "id": "97de3b53-b883-4bf6-9076-16686cfda052",
   "metadata": {},
   "source": [
    "example\n",
    "```\n",
    "- id: bam\n",
    "  type: File\n",
    "  secondaryFiles:\n",
    "  - pattern: .bai\n",
    "    required: true\n",
    "  sbg:fileTypes: BAM\n",
    "```"
   ]
  },
  {
   "cell_type": "code",
   "execution_count": 5,
   "id": "552af31a-3a3b-4353-a3e9-8ede4edce8ce",
   "metadata": {
    "jupyter": {
     "source_hidden": true
    }
   },
   "outputs": [
    {
     "data": {
      "application/javascript": "\n            require(\n                [\n                    \"notebook/js/codecell\",\n                    \"codemirror/mode/yaml/yaml\"\n                ],\n                function(cc){\n                    cc.CodeCell.options_default.highlight_modes.magic_yaml = {\n                        reg: [\"^%%yaml\"]\n                    }\n                }\n            );\n            ",
      "text/plain": [
       "<IPython.core.display.Javascript object>"
      ]
     },
     "metadata": {},
     "output_type": "display_data"
    }
   ],
   "source": [
    "%%yaml inputs\n",
    "\n",
    "inputs:\n",
    "#inputs 1\n",
    "- id: ref_file\n",
    "  type: File\n",
    "\n",
    "#inputs 2\n",
    "- id: bam\n",
    "  type: File\n",
    "  sbg:fileTypes: BAM\n",
    "  secondaryFiles:\n",
    "  - pattern: .bai\n",
    "\n"
   ]
  },
  {
   "attachments": {},
   "cell_type": "markdown",
   "id": "f3a736dd-888c-4a5d-a777-27e1e03e1715",
   "metadata": {
    "jp-MarkdownHeadingCollapsed": true,
    "tags": []
   },
   "source": [
    "## Section 3/4 Scripts and Other Requirements"
   ]
  },
  {
   "cell_type": "markdown",
   "id": "8d24417f-5e3d-4f46-8c64-42ee79b46499",
   "metadata": {},
   "source": [
    "inlines javascript examples  \n",
    "```\n",
    "$(inputs.bam.path) -n $(inputs.bam.nameroot).macs2\n",
    "```"
   ]
  },
  {
   "cell_type": "code",
   "execution_count": 6,
   "id": "d69f7ea2-adc8-4a58-9f16-e5967d0fcce0",
   "metadata": {
    "jupyter": {
     "source_hidden": true
    }
   },
   "outputs": [
    {
     "data": {
      "application/javascript": "\n            require(\n                [\n                    \"notebook/js/codecell\",\n                    \"codemirror/mode/yaml/yaml\"\n                ],\n                function(cc){\n                    cc.CodeCell.options_default.highlight_modes.magic_yaml = {\n                        reg: [\"^%%yaml\"]\n                    }\n                }\n            );\n            ",
      "text/plain": [
       "<IPython.core.display.Javascript object>"
      ]
     },
     "metadata": {},
     "output_type": "display_data"
    }
   ],
   "source": [
    "%%yaml base_command_and_requirements\n",
    "baseCommand:\n",
    "- bash\n",
    "- my_script.sh\n",
    "requirements:\n",
    "- class: ShellCommandRequirement\n",
    "- class: InlineJavascriptRequirement\n",
    "- class: DockerRequirement\n",
    "  dockerPull: images.sb.biodatacatalyst.nhlbi.nih.gov/user-id/repo_name:tag\n",
    "- class: InitialWorkDirRequirement\n",
    "  listing:\n",
    "  - entryname: my_script.sh\n",
    "    writable: false\n",
    "    entry: |-\n",
    "    \n",
    "      python3 foo.py \\\n",
    "      --bam $(inputs.bam.path) \\\n",
    "      --ref $(inputs.ref.path)  \n",
    "      --outDir ./ \n",
    "     \n"
   ]
  },
  {
   "attachments": {},
   "cell_type": "markdown",
   "id": "47b05eb8-4462-4d13-96bc-f699bf0f6406",
   "metadata": {
    "jp-MarkdownHeadingCollapsed": true,
    "tags": []
   },
   "source": [
    "## Section 4/4 Tool Outputs"
   ]
  },
  {
   "cell_type": "code",
   "execution_count": 7,
   "id": "3faf31ff-85c2-4fe8-b889-a750f80b4d8c",
   "metadata": {
    "jupyter": {
     "source_hidden": true
    }
   },
   "outputs": [
    {
     "data": {
      "application/javascript": "\n            require(\n                [\n                    \"notebook/js/codecell\",\n                    \"codemirror/mode/yaml/yaml\"\n                ],\n                function(cc){\n                    cc.CodeCell.options_default.highlight_modes.magic_yaml = {\n                        reg: [\"^%%yaml\"]\n                    }\n                }\n            );\n            ",
      "text/plain": [
       "<IPython.core.display.Javascript object>"
      ]
     },
     "metadata": {},
     "output_type": "display_data"
    }
   ],
   "source": [
    "%%yaml outputs\n",
    "outputs:\n",
    "- id: bed_file_example\n",
    "  type: File\n",
    "  outputBinding:\n",
    "    glob: '*.bed'\n",
    "- id: counts\n",
    "  type: File\n",
    "  outputBinding:\n",
    "    glob: '*.counts'"
   ]
  },
  {
   "cell_type": "markdown",
   "id": "8742d141",
   "metadata": {},
   "source": [
    "# III Test tool"
   ]
  },
  {
   "cell_type": "code",
   "execution_count": null,
   "id": "24bcd747",
   "metadata": {},
   "outputs": [],
   "source": [
    "with open('tool_example.cwl', 'w') as f:\n",
    "    data = yaml.dump(label_and_description | inputs | base_command_and_requirements | outputs, f, sort_keys=False, default_flow_style=False)"
   ]
  },
  {
   "cell_type": "code",
   "execution_count": null,
   "id": "30fed29a",
   "metadata": {},
   "outputs": [],
   "source": [
    "%%bash\n",
    "cwltool --tool-help tool_example.cwl"
   ]
  },
  {
   "cell_type": "code",
   "execution_count": null,
   "metadata": {},
   "outputs": [],
   "source": [
    "%%bash\n",
    "cwltool macs2_call_candidate_regions.cwl \\\n",
    "    --ref ref.fasta \\\n",
    "    --bam example.bam"
   ]
  },
  {
   "attachments": {},
   "cell_type": "markdown",
   "id": "ae1d8c0b-70f1-4cd6-815e-249ce0590e95",
   "metadata": {
    "jp-MarkdownHeadingCollapsed": true,
    "tags": []
   },
   "source": [
    "# IV Push tool to platform"
   ]
  },
  {
   "cell_type": "code",
   "execution_count": null,
   "id": "dbefbc1b",
   "metadata": {},
   "outputs": [],
   "source": [
    "%%bash\n",
    "sbpack bdc userid/project-name/tool-name stool_example.cwl"
   ]
  },
  {
   "attachments": {},
   "cell_type": "markdown",
   "id": "d392f473-1127-49ef-a70f-7728a0df3639",
   "metadata": {
    "tags": []
   },
   "source": [
    "# V References"
   ]
  },
  {
   "cell_type": "markdown",
   "id": "1a715203-62c9-4da6-9d58-499d2372663e",
   "metadata": {},
   "source": [
    "https://docs.sevenbridges.com/reference/add-an-app-using-raw-cwl"
   ]
  }
 ],
 "metadata": {
  "kernelspec": {
   "display_name": "Python 3 (ipykernel)",
   "language": "python",
   "name": "python3"
  },
  "language_info": {
   "codemirror_mode": {
    "name": "ipython",
    "version": 3
   },
   "file_extension": ".py",
   "mimetype": "text/x-python",
   "name": "python",
   "nbconvert_exporter": "python",
   "pygments_lexer": "ipython3",
   "version": "3.10.4"
  },
  "toc-autonumbering": true,
  "toc-showcode": true,
  "toc-showmarkdowntxt": false
 },
 "nbformat": 4,
 "nbformat_minor": 5
}
