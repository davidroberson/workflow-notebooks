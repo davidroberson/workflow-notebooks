{
 "cells": [
  {
   "cell_type": "code",
   "execution_count": 1,
   "metadata": {},
   "outputs": [
    {
     "name": "stdout",
     "output_type": "stream",
     "text": [
      "Collecting yamlmagic\n",
      "  Downloading yamlmagic-0.2.0-py2.py3-none-any.whl (5.5 kB)\n",
      "Requirement already satisfied: pyyaml in /home/codespace/.local/lib/python3.10/site-packages (6.0)\n",
      "Collecting sevenbridges-python\n",
      "  Downloading sevenbridges_python-2.9.1-py3-none-any.whl (102 kB)\n",
      "\u001b[2K     \u001b[90m━━━━━━━━━━━━━━━━━━━━━━━━━━━━━━━━━━━━━━━\u001b[0m \u001b[32m102.1/102.1 kB\u001b[0m \u001b[31m3.4 MB/s\u001b[0m eta \u001b[36m0:00:00\u001b[0m\n",
      "\u001b[?25hRequirement already satisfied: requests>=2.25.1 in /home/codespace/.local/lib/python3.10/site-packages (from sevenbridges-python) (2.28.2)\n",
      "Requirement already satisfied: urllib3>=1.26.2 in /home/codespace/.local/lib/python3.10/site-packages (from sevenbridges-python) (1.26.15)\n",
      "Requirement already satisfied: charset-normalizer<4,>=2 in /home/codespace/.local/lib/python3.10/site-packages (from requests>=2.25.1->sevenbridges-python) (3.1.0)\n",
      "Requirement already satisfied: idna<4,>=2.5 in /home/codespace/.local/lib/python3.10/site-packages (from requests>=2.25.1->sevenbridges-python) (3.4)\n",
      "Requirement already satisfied: certifi>=2017.4.17 in /home/codespace/.local/lib/python3.10/site-packages (from requests>=2.25.1->sevenbridges-python) (2022.12.7)\n",
      "Installing collected packages: yamlmagic, sevenbridges-python\n",
      "Successfully installed sevenbridges-python-2.9.1 yamlmagic-0.2.0\n",
      "\n",
      "\u001b[1m[\u001b[0m\u001b[34;49mnotice\u001b[0m\u001b[1;39;49m]\u001b[0m\u001b[39;49m A new release of pip is available: \u001b[0m\u001b[31;49m23.1.1\u001b[0m\u001b[39;49m -> \u001b[0m\u001b[32;49m23.1.2\u001b[0m\n",
      "\u001b[1m[\u001b[0m\u001b[34;49mnotice\u001b[0m\u001b[1;39;49m]\u001b[0m\u001b[39;49m To update, run: \u001b[0m\u001b[32;49mpip install --upgrade pip\u001b[0m\n",
      "Note: you may need to restart the kernel to use updated packages.\n"
     ]
    }
   ],
   "source": [
    "pip install yamlmagic pyyaml sevenbridges-python\n"
   ]
  },
  {
   "cell_type": "code",
   "execution_count": 2,
   "metadata": {},
   "outputs": [
    {
     "name": "stdout",
     "output_type": "stream",
     "text": [
      "Collecting cwltool\n",
      "  Downloading cwltool-3.1.20230425144158-py3-none-any.whl (1.3 MB)\n",
      "\u001b[2K     ━━━━━━━━━━━━━━━━━━━━━━━━━━━━━━━━━━━━━━━━ 1.3/1.3 MB 19.3 MB/s eta 0:00:00\n",
      "\u001b[?25hRequirement already satisfied: setuptools in /home/codespace/.local/lib/python3.10/site-packages (from cwltool) (67.7.2)\n",
      "Requirement already satisfied: requests>=2.6.1 in /home/codespace/.local/lib/python3.10/site-packages (from cwltool) (2.28.2)\n",
      "Collecting ruamel.yaml<0.17.22,>=0.15 (from cwltool)\n",
      "  Downloading ruamel.yaml-0.17.21-py3-none-any.whl (109 kB)\n",
      "\u001b[2K     ━━━━━━━━━━━━━━━━━━━━━━━━━━━━━━━━━━━━━━━ 109.5/109.5 kB 3.0 MB/s eta 0:00:00\n",
      "\u001b[?25hCollecting rdflib<6.4.0,>=4.2.2 (from cwltool)\n",
      "  Downloading rdflib-6.3.2-py3-none-any.whl (528 kB)\n",
      "\u001b[2K     ━━━━━━━━━━━━━━━━━━━━━━━━━━━━━━━━━━━━━━ 528.1/528.1 kB 18.4 MB/s eta 0:00:00\n",
      "\u001b[?25hCollecting shellescape<3.9,>=3.4.1 (from cwltool)\n",
      "  Downloading shellescape-3.8.1-py2.py3-none-any.whl (3.1 kB)\n",
      "Collecting schema-salad<9,>=8.4 (from cwltool)\n",
      "  Downloading schema_salad-8.4.20230426093816-cp310-cp310-manylinux_2_17_x86_64.manylinux2014_x86_64.manylinux_2_28_x86_64.whl (1.1 MB)\n",
      "\u001b[2K     ━━━━━━━━━━━━━━━━━━━━━━━━━━━━━━━━━━━━━━━━ 1.1/1.1 MB 18.2 MB/s eta 0:00:00\n",
      "\u001b[?25hCollecting mypy-extensions (from cwltool)\n",
      "  Downloading mypy_extensions-1.0.0-py3-none-any.whl (4.7 kB)\n",
      "Requirement already satisfied: psutil>=5.6.6 in /home/codespace/.local/lib/python3.10/site-packages (from cwltool) (5.9.5)\n",
      "Collecting prov==1.5.1 (from cwltool)\n",
      "  Downloading prov-1.5.1-py2.py3-none-any.whl (426 kB)\n",
      "\u001b[2K     ━━━━━━━━━━━━━━━━━━━━━━━━━━━━━━━━━━━━━━ 426.5/426.5 kB 16.5 MB/s eta 0:00:00\n",
      "\u001b[?25hCollecting bagit>=1.6.4 (from cwltool)\n",
      "  Downloading bagit-1.8.1-py2.py3-none-any.whl (35 kB)\n",
      "Requirement already satisfied: typing-extensions in /home/codespace/.local/lib/python3.10/site-packages (from cwltool) (4.5.0)\n",
      "Collecting coloredlogs (from cwltool)\n",
      "  Downloading coloredlogs-15.0.1-py2.py3-none-any.whl (46 kB)\n",
      "\u001b[2K     ━━━━━━━━━━━━━━━━━━━━━━━━━━━━━━━━━━━━━━━━ 46.0/46.0 kB 1.7 MB/s eta 0:00:00\n",
      "\u001b[?25hCollecting pydot>=1.4.1 (from cwltool)\n",
      "  Downloading pydot-1.4.2-py2.py3-none-any.whl (21 kB)\n",
      "Requirement already satisfied: pyparsing!=3.0.2 in /home/codespace/.local/lib/python3.10/site-packages (from cwltool) (3.0.9)\n",
      "Collecting argcomplete (from cwltool)\n",
      "  Downloading argcomplete-3.0.8-py3-none-any.whl (40 kB)\n",
      "\u001b[2K     ━━━━━━━━━━━━━━━━━━━━━━━━━━━━━━━━━━━━━━━━ 40.0/40.0 kB 1.7 MB/s eta 0:00:00\n",
      "\u001b[?25hCollecting cwl-utils>=0.22 (from cwltool)\n",
      "  Downloading cwl_utils-0.24-py3-none-any.whl (298 kB)\n",
      "\u001b[2K     ━━━━━━━━━━━━━━━━━━━━━━━━━━━━━━━━━━━━━━━ 298.6/298.6 kB 9.6 MB/s eta 0:00:00\n",
      "\u001b[?25hCollecting lxml (from prov==1.5.1->cwltool)\n",
      "  Downloading lxml-4.9.2-cp310-cp310-manylinux_2_17_x86_64.manylinux2014_x86_64.manylinux_2_24_x86_64.whl (7.1 MB)\n",
      "\u001b[2K     ━━━━━━━━━━━━━━━━━━━━━━━━━━━━━━━━━━━━━━━━ 7.1/7.1 MB 63.2 MB/s eta 0:00:001\n",
      "\u001b[?25hRequirement already satisfied: networkx in /home/codespace/.local/lib/python3.10/site-packages (from prov==1.5.1->cwltool) (3.1)\n",
      "Requirement already satisfied: python-dateutil in /home/codespace/.local/lib/python3.10/site-packages (from prov==1.5.1->cwltool) (2.8.2)\n",
      "Requirement already satisfied: six>=1.9.0 in /home/codespace/.local/lib/python3.10/site-packages (from prov==1.5.1->cwltool) (1.16.0)\n",
      "Collecting cwl-upgrader>=1.2.3 (from cwl-utils>=0.22->cwltool)\n",
      "  Downloading cwl_upgrader-1.2.4-py3-none-any.whl (24 kB)\n",
      "Requirement already satisfied: packaging in /home/codespace/.local/lib/python3.10/site-packages (from cwl-utils>=0.22->cwltool) (23.1)\n",
      "Collecting CacheControl (from cwl-utils>=0.22->cwltool)\n",
      "  Downloading CacheControl-0.12.11-py2.py3-none-any.whl (21 kB)\n",
      "Collecting isodate<0.7.0,>=0.6.0 (from rdflib<6.4.0,>=4.2.2->cwltool)\n",
      "  Downloading isodate-0.6.1-py2.py3-none-any.whl (41 kB)\n",
      "\u001b[2K     ━━━━━━━━━━━━━━━━━━━━━━━━━━━━━━━━━━━━━━━━ 41.7/41.7 kB 1.6 MB/s eta 0:00:00\n",
      "\u001b[?25hRequirement already satisfied: charset-normalizer<4,>=2 in /home/codespace/.local/lib/python3.10/site-packages (from requests>=2.6.1->cwltool) (3.1.0)\n",
      "Requirement already satisfied: idna<4,>=2.5 in /home/codespace/.local/lib/python3.10/site-packages (from requests>=2.6.1->cwltool) (3.4)\n",
      "Requirement already satisfied: urllib3<1.27,>=1.21.1 in /home/codespace/.local/lib/python3.10/site-packages (from requests>=2.6.1->cwltool) (1.26.15)\n",
      "Requirement already satisfied: certifi>=2017.4.17 in /home/codespace/.local/lib/python3.10/site-packages (from requests>=2.6.1->cwltool) (2022.12.7)\n",
      "Collecting ruamel.yaml.clib>=0.2.6 (from ruamel.yaml<0.17.22,>=0.15->cwltool)\n",
      "  Downloading ruamel.yaml.clib-0.2.7-cp310-cp310-manylinux_2_17_x86_64.manylinux2014_x86_64.manylinux_2_24_x86_64.whl (485 kB)\n",
      "\u001b[2K     ━━━━━━━━━━━━━━━━━━━━━━━━━━━━━━━━━━━━━━ 485.6/485.6 kB 19.1 MB/s eta 0:00:00\n",
      "\u001b[?25hRequirement already satisfied: mistune<2.1,>=2.0.3 in /home/codespace/.local/lib/python3.10/site-packages (from schema-salad<9,>=8.4->cwltool) (2.0.5)\n",
      "Collecting humanfriendly>=9.1 (from coloredlogs->cwltool)\n",
      "  Downloading humanfriendly-10.0-py2.py3-none-any.whl (86 kB)\n",
      "\u001b[2K     ━━━━━━━━━━━━━━━━━━━━━━━━━━━━━━━━━━━━━━━━ 86.8/86.8 kB 3.3 MB/s eta 0:00:00\n",
      "\u001b[?25hCollecting msgpack>=0.5.2 (from CacheControl->cwl-utils>=0.22->cwltool)\n",
      "  Downloading msgpack-1.0.5-cp310-cp310-manylinux_2_17_x86_64.manylinux2014_x86_64.whl (316 kB)\n",
      "\u001b[2K     ━━━━━━━━━━━━━━━━━━━━━━━━━━━━━━━━━━━━━━ 316.8/316.8 kB 12.9 MB/s eta 0:00:00\n",
      "\u001b[?25hCollecting lockfile>=0.9 (from CacheControl->cwl-utils>=0.22->cwltool)\n",
      "  Downloading lockfile-0.12.2-py2.py3-none-any.whl (13 kB)\n",
      "Installing collected packages: shellescape, msgpack, lockfile, bagit, ruamel.yaml.clib, pydot, mypy-extensions, lxml, isodate, humanfriendly, argcomplete, ruamel.yaml, rdflib, coloredlogs, CacheControl, prov, schema-salad, cwl-upgrader, cwl-utils, cwltool\n",
      "Successfully installed CacheControl-0.12.11 argcomplete-3.0.8 bagit-1.8.1 coloredlogs-15.0.1 cwl-upgrader-1.2.4 cwl-utils-0.24 cwltool-3.1.20230425144158 humanfriendly-10.0 isodate-0.6.1 lockfile-0.12.2 lxml-4.9.2 msgpack-1.0.5 mypy-extensions-1.0.0 prov-1.5.1 pydot-1.4.2 rdflib-6.3.2 ruamel.yaml-0.17.21 ruamel.yaml.clib-0.2.7 schema-salad-8.4.20230426093816 shellescape-3.8.1\n"
     ]
    }
   ],
   "source": [
    "%%bash\n",
    "pip install cwltool"
   ]
  },
  {
   "cell_type": "code",
   "execution_count": 3,
   "metadata": {},
   "outputs": [
    {
     "name": "stdout",
     "output_type": "stream",
     "text": [
      "Collecting sbpack\n",
      "  Downloading sbpack-2022.3.16-py3-none-any.whl (26 kB)\n",
      "Requirement already satisfied: ruamel.yaml>=0.16 in /usr/local/python/3.10.4/lib/python3.10/site-packages (from sbpack) (0.17.21)\n",
      "Requirement already satisfied: sevenbridges-python>=2.0 in /usr/local/python/3.10.4/lib/python3.10/site-packages (from sbpack) (2.9.1)\n",
      "Collecting nf-core==2.1 (from sbpack)\n",
      "  Downloading nf_core-2.1-py3-none-any.whl (2.3 MB)\n",
      "\u001b[2K     ━━━━━━━━━━━━━━━━━━━━━━━━━━━━━━━━━━━━━━━━ 2.3/2.3 MB 15.8 MB/s eta 0:00:00\n",
      "\u001b[?25hCollecting cwlformat (from sbpack)\n",
      "  Downloading cwlformat-2022.2.18-py3-none-any.whl (10 kB)\n",
      "Requirement already satisfied: packaging in /home/codespace/.local/lib/python3.10/site-packages (from sbpack) (23.1)\n",
      "Collecting click (from nf-core==2.1->sbpack)\n",
      "  Downloading click-8.1.3-py3-none-any.whl (96 kB)\n",
      "\u001b[2K     ━━━━━━━━━━━━━━━━━━━━━━━━━━━━━━━━━━━━━━━━ 96.6/96.6 kB 3.4 MB/s eta 0:00:00\n",
      "\u001b[?25hRequirement already satisfied: GitPython in /home/codespace/.local/lib/python3.10/site-packages (from nf-core==2.1->sbpack) (3.1.31)\n",
      "Requirement already satisfied: jinja2 in /home/codespace/.local/lib/python3.10/site-packages (from nf-core==2.1->sbpack) (3.1.2)\n",
      "Requirement already satisfied: jsonschema in /home/codespace/.local/lib/python3.10/site-packages (from nf-core==2.1->sbpack) (4.17.3)\n",
      "Requirement already satisfied: prompt-toolkit>=3.0.3 in /home/codespace/.local/lib/python3.10/site-packages (from nf-core==2.1->sbpack) (3.0.38)\n",
      "Requirement already satisfied: pyyaml in /home/codespace/.local/lib/python3.10/site-packages (from nf-core==2.1->sbpack) (6.0)\n",
      "Collecting pytest-workflow (from nf-core==2.1->sbpack)\n",
      "  Downloading pytest_workflow-2.0.1-py3-none-any.whl (39 kB)\n",
      "Collecting questionary>=1.8.0 (from nf-core==2.1->sbpack)\n",
      "  Downloading questionary-1.10.0-py3-none-any.whl (31 kB)\n",
      "Collecting requests-cache (from nf-core==2.1->sbpack)\n",
      "  Downloading requests_cache-1.0.1-py3-none-any.whl (58 kB)\n",
      "\u001b[2K     ━━━━━━━━━━━━━━━━━━━━━━━━━━━━━━━━━━━━━━━━ 58.7/58.7 kB 2.5 MB/s eta 0:00:00\n",
      "\u001b[?25hRequirement already satisfied: requests in /home/codespace/.local/lib/python3.10/site-packages (from nf-core==2.1->sbpack) (2.28.2)\n",
      "Collecting rich>=10.0.0 (from nf-core==2.1->sbpack)\n",
      "  Downloading rich-13.3.5-py3-none-any.whl (238 kB)\n",
      "\u001b[2K     ━━━━━━━━━━━━━━━━━━━━━━━━━━━━━━━━━━━━━━━ 238.7/238.7 kB 9.7 MB/s eta 0:00:00\n",
      "\u001b[?25hCollecting tabulate (from nf-core==2.1->sbpack)\n",
      "  Downloading tabulate-0.9.0-py3-none-any.whl (35 kB)\n",
      "Requirement already satisfied: ruamel.yaml.clib>=0.2.6 in /usr/local/python/3.10.4/lib/python3.10/site-packages (from ruamel.yaml>=0.16->sbpack) (0.2.7)\n",
      "Requirement already satisfied: urllib3>=1.26.2 in /home/codespace/.local/lib/python3.10/site-packages (from sevenbridges-python>=2.0->sbpack) (1.26.15)\n",
      "Requirement already satisfied: wcwidth in /home/codespace/.local/lib/python3.10/site-packages (from prompt-toolkit>=3.0.3->nf-core==2.1->sbpack) (0.2.6)\n",
      "Requirement already satisfied: charset-normalizer<4,>=2 in /home/codespace/.local/lib/python3.10/site-packages (from requests->nf-core==2.1->sbpack) (3.1.0)\n",
      "Requirement already satisfied: idna<4,>=2.5 in /home/codespace/.local/lib/python3.10/site-packages (from requests->nf-core==2.1->sbpack) (3.4)\n",
      "Requirement already satisfied: certifi>=2017.4.17 in /home/codespace/.local/lib/python3.10/site-packages (from requests->nf-core==2.1->sbpack) (2022.12.7)\n",
      "Collecting markdown-it-py<3.0.0,>=2.2.0 (from rich>=10.0.0->nf-core==2.1->sbpack)\n",
      "  Downloading markdown_it_py-2.2.0-py3-none-any.whl (84 kB)\n",
      "\u001b[2K     ━━━━━━━━━━━━━━━━━━━━━━━━━━━━━━━━━━━━━━━━ 84.5/84.5 kB 3.0 MB/s eta 0:00:00\n",
      "\u001b[?25hRequirement already satisfied: pygments<3.0.0,>=2.13.0 in /home/codespace/.local/lib/python3.10/site-packages (from rich>=10.0.0->nf-core==2.1->sbpack) (2.15.1)\n",
      "Requirement already satisfied: gitdb<5,>=4.0.1 in /home/codespace/.local/lib/python3.10/site-packages (from GitPython->nf-core==2.1->sbpack) (4.0.10)\n",
      "Requirement already satisfied: MarkupSafe>=2.0 in /home/codespace/.local/lib/python3.10/site-packages (from jinja2->nf-core==2.1->sbpack) (2.1.2)\n",
      "Requirement already satisfied: attrs>=17.4.0 in /home/codespace/.local/lib/python3.10/site-packages (from jsonschema->nf-core==2.1->sbpack) (23.1.0)\n",
      "Requirement already satisfied: pyrsistent!=0.17.0,!=0.17.1,!=0.17.2,>=0.14.0 in /home/codespace/.local/lib/python3.10/site-packages (from jsonschema->nf-core==2.1->sbpack) (0.19.3)\n",
      "Collecting pytest>=7.0.0 (from pytest-workflow->nf-core==2.1->sbpack)\n",
      "  Downloading pytest-7.3.1-py3-none-any.whl (320 kB)\n",
      "\u001b[2K     ━━━━━━━━━━━━━━━━━━━━━━━━━━━━━━━━━━━━━━ 320.5/320.5 kB 13.4 MB/s eta 0:00:00\n",
      "\u001b[?25hCollecting cattrs>=22.2 (from requests-cache->nf-core==2.1->sbpack)\n",
      "  Downloading cattrs-22.2.0-py3-none-any.whl (35 kB)\n",
      "Requirement already satisfied: platformdirs>=2.5 in /home/codespace/.local/lib/python3.10/site-packages (from requests-cache->nf-core==2.1->sbpack) (3.3.0)\n",
      "Collecting url-normalize>=1.4 (from requests-cache->nf-core==2.1->sbpack)\n",
      "  Downloading url_normalize-1.4.3-py2.py3-none-any.whl (6.8 kB)\n",
      "Collecting exceptiongroup (from cattrs>=22.2->requests-cache->nf-core==2.1->sbpack)\n",
      "  Downloading exceptiongroup-1.1.1-py3-none-any.whl (14 kB)\n",
      "Requirement already satisfied: smmap<6,>=3.0.1 in /home/codespace/.local/lib/python3.10/site-packages (from gitdb<5,>=4.0.1->GitPython->nf-core==2.1->sbpack) (5.0.0)\n",
      "Collecting mdurl~=0.1 (from markdown-it-py<3.0.0,>=2.2.0->rich>=10.0.0->nf-core==2.1->sbpack)\n",
      "  Downloading mdurl-0.1.2-py3-none-any.whl (10.0 kB)\n",
      "Collecting iniconfig (from pytest>=7.0.0->pytest-workflow->nf-core==2.1->sbpack)\n",
      "  Downloading iniconfig-2.0.0-py3-none-any.whl (5.9 kB)\n",
      "Collecting pluggy<2.0,>=0.12 (from pytest>=7.0.0->pytest-workflow->nf-core==2.1->sbpack)\n",
      "  Downloading pluggy-1.0.0-py2.py3-none-any.whl (13 kB)\n",
      "Requirement already satisfied: tomli>=1.0.0 in /home/codespace/.local/lib/python3.10/site-packages (from pytest>=7.0.0->pytest-workflow->nf-core==2.1->sbpack) (2.0.1)\n",
      "Requirement already satisfied: six in /home/codespace/.local/lib/python3.10/site-packages (from url-normalize>=1.4->requests-cache->nf-core==2.1->sbpack) (1.16.0)\n",
      "Installing collected packages: url-normalize, tabulate, pluggy, mdurl, iniconfig, exceptiongroup, click, questionary, pytest, markdown-it-py, cwlformat, cattrs, rich, requests-cache, pytest-workflow, nf-core, sbpack\n",
      "Successfully installed cattrs-22.2.0 click-8.1.3 cwlformat-2022.2.18 exceptiongroup-1.1.1 iniconfig-2.0.0 markdown-it-py-2.2.0 mdurl-0.1.2 nf-core-2.1 pluggy-1.0.0 pytest-7.3.1 pytest-workflow-2.0.1 questionary-1.10.0 requests-cache-1.0.1 rich-13.3.5 sbpack-2022.3.16 tabulate-0.9.0 url-normalize-1.4.3\n"
     ]
    }
   ],
   "source": [
    "%%bash\n",
    "pip3 install sbpack\n"
   ]
  },
  {
   "cell_type": "code",
   "execution_count": null,
   "metadata": {},
   "outputs": [],
   "source": []
  },
  {
   "cell_type": "code",
   "execution_count": null,
   "metadata": {},
   "outputs": [],
   "source": []
  },
  {
   "cell_type": "code",
   "execution_count": null,
   "metadata": {},
   "outputs": [],
   "source": []
  },
  {
   "cell_type": "code",
   "execution_count": null,
   "metadata": {},
   "outputs": [],
   "source": []
  }
 ],
 "metadata": {
  "kernelspec": {
   "display_name": "Python 3",
   "language": "python",
   "name": "python3"
  },
  "language_info": {
   "codemirror_mode": {
    "name": "ipython",
    "version": 3
   },
   "file_extension": ".py",
   "mimetype": "text/x-python",
   "name": "python",
   "nbconvert_exporter": "python",
   "pygments_lexer": "ipython3",
   "version": "3.10.4"
  },
  "orig_nbformat": 4
 },
 "nbformat": 4,
 "nbformat_minor": 2
}
